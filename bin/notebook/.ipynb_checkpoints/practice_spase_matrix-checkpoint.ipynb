{
 "cells": [
  {
   "cell_type": "code",
   "execution_count": null,
   "metadata": {},
   "outputs": [],
   "source": [
    "from gensim import matutils,models,corpora\n",
    "from scipy.sparse import csc_matrix\n",
    "import MeCab\n",
    "import os\n",
    "import pathlib\n",
    "import re"
   ]
  },
  {
   "cell_type": "code",
   "execution_count": null,
   "metadata": {},
   "outputs": [],
   "source": [
    "\n",
    "mc= MeCab.Tagger(r'-d C:\\Users\\icech\\mecab-ipadic-neologd\\build\\mecab-ipadic-2.7.0-20070801-neologd-20180625')\n",
    "text_word_list=[]\n",
    "\n",
    "files=os.listdir('../../data/new_text')"
   ]
  },
  {
   "cell_type": "code",
   "execution_count": null,
   "metadata": {},
   "outputs": [],
   "source": [
    "def make_lines(txt,Flg_matubi=False):\n",
    "    txt=re.sub('\\（.+\\）','',txt)\n",
    "    txt=re.sub('.+　','',txt)\n",
    "    txt=re.sub('\\n','',txt)\n",
    "    txt=re.sub('\\\\u3000','',txt)\n",
    "    txt=txt.split('。')\n",
    "\n",
    "    for sentence in txt:\n",
    "        if Flg_matubi==True:\n",
    "            sentence=re.sub('.+、','',sentence)\n",
    "        morphemes = []\n",
    "\n",
    "        mecab = MeCab.Tagger(r'-d C:\\Users\\icech\\mecab-ipadic-neologd\\build\\mecab-ipadic-2.7.0-20070801-neologd-20180625')\n",
    "        wakatis=mecab.parse(sentence)\n",
    "        wakatis=wakatis.split('\\n')\n",
    "        for wakati in wakatis:\n",
    "            if wakati=='EOS'or'':\n",
    "                yield morphemes\n",
    "                break\n",
    "                \n",
    "            cols = wakati.split('\\t')\n",
    "            res_cols = cols[1].split(',')\n",
    "            morpheme = {\n",
    "            'surface': cols[0],\n",
    "            'base': res_cols[6],\n",
    "            'pos': res_cols[0]}\n",
    "            morphemes.append(morpheme)"
   ]
  },
  {
   "cell_type": "code",
   "execution_count": null,
   "metadata": {},
   "outputs": [],
   "source": [
    "def count_matubi(txt,max_matubi_len=4):\n",
    "    matubi_list=[]\n",
    "    for morphemes in make_lines(txt,Flg_matubi=True):\n",
    "        sentence=[d.get('surface') for d in morphemes]\n",
    "        \n",
    "        word=\"\"\n",
    "        max_matubi_len=min([len(sentence),max_matubi_len])\n",
    "\n",
    "        for i in reversed(range(1,max_matubi_len+1)):\n",
    "            word+=sentence[-i]\n",
    "        \n",
    "        matubi_list.append(word)\n",
    " \n",
    "    return([matubi_list])\n"
   ]
  },
  {
   "cell_type": "code",
   "execution_count": null,
   "metadata": {},
   "outputs": [],
   "source": []
  },
  {
   "cell_type": "code",
   "execution_count": null,
   "metadata": {},
   "outputs": [],
   "source": [
    "def count_morpheme(txt,word_class='動詞'):\n",
    "    txt_word_list=[]\n",
    "    for morphemes in make_lines(txt,Flg_matubi=False):\n",
    "        for morpheme in morphemes:\n",
    "            if len(morpheme['base'])==1:\n",
    "                continue\n",
    "                \n",
    "            if morpheme['pos'] == word_class:\n",
    "                txt_word_list.append(morpheme['base'])\n",
    "    #二重リストで返す\n",
    "    return([txt_word_list])"
   ]
  },
  {
   "cell_type": "code",
   "execution_count": null,
   "metadata": {},
   "outputs": [],
   "source": [
    "def wordlist2csc(txt_word_list):\n",
    "    corpus_dic=corpora.Dictionary(txt_word_list)\n",
    "    corpus_list=[corpus_dic.doc2bow(word_in_text)for word_in_text in txt_word_list]\n",
    "#     word_matrix=matutils.corpus2csc(corpus_list)\n",
    "    return(corpus_dic,corpus_list)"
   ]
  },
  {
   "cell_type": "code",
   "execution_count": null,
   "metadata": {},
   "outputs": [],
   "source": [
    "def make_file_pathlist_from_folder(folder_path):\n",
    "    files=os.listdir('../../data/new_text')\n",
    "    \n",
    "    "
   ]
  },
  {
   "cell_type": "code",
   "execution_count": null,
   "metadata": {},
   "outputs": [],
   "source": [
    "for i,file in enumerate(files):\n",
    "    with open('../../data/new_text/'+file,'r',encoding='utf-8',errors='ignore') as f:\n",
    "        txt=f.read()\n",
    "#         print(txt)\n",
    "        a=count_morpheme(txt)\n",
    "        \n",
    "        if i ==0:\n",
    "            corpus_dic=corpora.Dictionary(a)\n",
    "            corpus_list=[corpus_dic.doc2bow(a[0])]\n",
    "        else:\n",
    "            corpus_dic.add_documents(a)\n",
    "            corpus_list.extend([corpus_dic.doc2bow(a[0])])\n",
    "        \n",
    "        if i ==1:\n",
    "            break"
   ]
  },
  {
   "cell_type": "code",
   "execution_count": null,
   "metadata": {},
   "outputs": [],
   "source": [
    "corpus_dic.doc2bow()"
   ]
  },
  {
   "cell_type": "code",
   "execution_count": null,
   "metadata": {},
   "outputs": [],
   "source": [
    "c=corpora.Dictionary()"
   ]
  },
  {
   "cell_type": "code",
   "execution_count": null,
   "metadata": {},
   "outputs": [],
   "source": [
    "corpus_list"
   ]
  },
  {
   "cell_type": "code",
   "execution_count": null,
   "metadata": {},
   "outputs": [],
   "source": [
    "pd"
   ]
  },
  {
   "cell_type": "code",
   "execution_count": null,
   "metadata": {},
   "outputs": [],
   "source": [
    "#使用単語数\n",
    "print(len(corpus_dic))\n",
    "#単語とidの関係\n",
    "print(corpus_dic.token2id)\n",
    "#文書の数(dfのindex)\n",
    "print(corpus_dic.num_docs) \n",
    "\n",
    "#使用単語リスト（dfのcolmun)\n",
    "keys=[key for key in corpus_dic.token2id]\n",
    "print(keys)"
   ]
  },
  {
   "cell_type": "code",
   "execution_count": null,
   "metadata": {},
   "outputs": [],
   "source": [
    "import pandas as pd\n",
    "df=pd.DataFrame(index=range(corpus_dic.num_docs),columns=keys)\n",
    "df.head(5)\n",
    "for j,corpus in enumerate(corpus_list):\n",
    "    print(j,corpus)\n",
    "    for cor in corpus:\n",
    "#         print(cor)\n",
    "        df.iat[j, cor[0]] = cor[1]"
   ]
  },
  {
   "cell_type": "code",
   "execution_count": null,
   "metadata": {},
   "outputs": [],
   "source": [
    "df.head()"
   ]
  },
  {
   "cell_type": "code",
   "execution_count": null,
   "metadata": {},
   "outputs": [],
   "source": [
    "dictionary=b[0]\n",
    "b[1]"
   ]
  },
  {
   "cell_type": "code",
   "execution_count": null,
   "metadata": {},
   "outputs": [],
   "source": [
    "dir_path"
   ]
  },
  {
   "cell_type": "code",
   "execution_count": null,
   "metadata": {},
   "outputs": [],
   "source": [
    "a.toarray()"
   ]
  },
  {
   "cell_type": "code",
   "execution_count": null,
   "metadata": {},
   "outputs": [],
   "source": [
    "import scipy.sparse as sparse\n",
    "sparse.find(a)"
   ]
  },
  {
   "cell_type": "code",
   "execution_count": null,
   "metadata": {},
   "outputs": [],
   "source": []
  }
 ],
 "metadata": {
  "kernelspec": {
   "display_name": "Python 3",
   "language": "python",
   "name": "python3"
  },
  "language_info": {
   "codemirror_mode": {
    "name": "ipython",
    "version": 3
   },
   "file_extension": ".py",
   "mimetype": "text/x-python",
   "name": "python",
   "nbconvert_exporter": "python",
   "pygments_lexer": "ipython3",
   "version": "3.6.6"
  }
 },
 "nbformat": 4,
 "nbformat_minor": 2
}
