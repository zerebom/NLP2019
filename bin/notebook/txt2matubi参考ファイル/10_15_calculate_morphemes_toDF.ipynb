{
 "cells": [
  {
   "cell_type": "code",
   "execution_count": null,
   "metadata": {},
   "outputs": [],
   "source": [
    "import sys\n",
    "import re \n",
    "import glob\n",
    "import pandas as pd\n",
    "import MeCab\n",
    "from collections import Counter\n",
    "%reload_ext autoreload\n",
    "%autoreload 2"
   ]
  },
  {
   "cell_type": "code",
   "execution_count": null,
   "metadata": {},
   "outputs": [],
   "source": [
    "def make_stopword():\n",
    "    f = open(r\"C:\\Users\\icech\\Desktop\\share\\Lab\\2018_09_05\\Docments\\stopword.txt\",\"r\")\n",
    "    list = []\n",
    "    for x in f:\n",
    "        list.append(x.rstrip(\"\\n\"))\n",
    "    f.close()\n",
    "    return(list)\n",
    "\n",
    "def make_lines(txt,Flg_matubi=False):\n",
    "    for sentence in txt:\n",
    "        if Flg_matubi==True:\n",
    "            sentence=re.sub('.+、','',sentence)\n",
    "        morphemes = []\n",
    "\n",
    "        mecab = MeCab.Tagger(r'-d C:\\Users\\icech\\mecab-ipadic-neologd\\build\\mecab-ipadic-2.7.0-20070801-neologd-20180625')\n",
    "        wakatis=mecab.parse(sentence)\n",
    "        wakatis=wakatis.split('\\n')\n",
    "        for wakati in wakatis:\n",
    "            if wakati=='EOS'or'':\n",
    "                yield morphemes\n",
    "                break\n",
    "                \n",
    "            cols = wakati.split('\\t')\n",
    "            res_cols = cols[1].split(',')\n",
    "            morpheme = {\n",
    "            'surface': cols[0],\n",
    "            'base': res_cols[6],\n",
    "            'pos': res_cols[0]}\n",
    "            morphemes.append(morpheme)\n",
    "\n",
    "def clean_txt(fname):\n",
    "    with open(fname,errors='ignore') as data_file:\n",
    "        text_data=data_file.read()\n",
    "        text_data=re.sub('\\（.+\\）','',text_data)\n",
    "        text_data=re.sub('.+　','',text_data)\n",
    "        text_data=re.sub('\\n','',text_data)\n",
    "        text_data=re.sub('\\\\u3000','',text_data)\n",
    "        text_data=text_data.split('。')\n",
    "        return(text_data)\n",
    "\n",
    "def count_morpheme(txt,word_counter,word_class='動詞',stop_IO=False):\n",
    "\n",
    "    stopword=make_stopword()\n",
    "\n",
    "    for morphemes in make_lines(txt,Flg_matubi=False):\n",
    "        for morpheme in morphemes:\n",
    "            if stop_IO==True:\n",
    "                if len(morpheme['base'])==1 or morpheme['base'] in stopword:\n",
    "                    continue\n",
    "            else:\n",
    "                if len(morpheme['base'])==1:\n",
    "                    continue\n",
    "\n",
    "            if morpheme['pos'] == word_class:\n",
    "                word_counter.update([morpheme['base']])\n",
    "    return(word_counter)\n",
    "    \n",
    "def count_matubi(txt,word_counter,matubi=3):\n",
    "    \n",
    "    for morphemes in make_lines(txt,Flg_matubi=True):\n",
    "        copus=[d.get('surface') for d in morphemes]\n",
    "        tmp=\"\"\n",
    "        end=min([len(copus),matubi])\n",
    "\n",
    "        for i in reversed(range(1,end+1)):\n",
    "            tmp+=copus[-i]\n",
    "\n",
    "        word_counter.update([tmp])                \n",
    "    return(word_counter)\n",
    "\n",
    "def count_to_pd(df,df_name,counter,to_csv=False):\n",
    "    count_word ,count_cnt=zip(*counter.most_common())\n",
    "    s=pd.Series(count_cnt,index=count_word,name=df_name)\n",
    "    df=pd.concat([df,s],axis=1)\n",
    "    return(df)"
   ]
  },
  {
   "cell_type": "code",
   "execution_count": null,
   "metadata": {},
   "outputs": [],
   "source": [
    "#フォルダーごと/品詞ごとに機械学習を行う\n",
    "#ファイル毎にやるときより数が減るので、おかしい。。。\n",
    "#一度にtxtにキャストする量が多すぎるのではないかと考え、txtのループ位置を修正\n",
    "#と思ったけど、違う。たぶんcounterを呼び出すタイミング←mostcount200のせいだった\n",
    "def main3(mor,M):\n",
    "    count_df=pd.DataFrame()\n",
    "    sub_folderes=glob.glob(r'C:\\Users\\icech\\Desktop\\share\\Lab\\2018_10_10\\dataset\\category\\*')\n",
    "    for folder in sub_folderes:\n",
    "        folder_name=re.sub(r'.+\\\\','',folder)\n",
    "        word_counter = Counter()\n",
    "        files=glob.glob(folder+'/*.txt')\n",
    "        txts=[]\n",
    "        for file in files:\n",
    "            file_name=re.sub(r'.+\\\\','',file)\n",
    "            file_name=re.sub('.txt','',file_name)\n",
    "            print(file_name)\n",
    "            txt=clean_txt(file)\n",
    "            txts.extend(txt)\n",
    "        if M==0:\n",
    "            cnt1=count_morpheme(txts,word_counter,mor)\n",
    "        else:\n",
    "            cnt1=count_matubi(txts,word_counter)\n",
    "            \n",
    "        count_df=count_to_pd(count_df,folder_name,cnt1)\n",
    "    return(count_df)"
   ]
  },
  {
   "cell_type": "code",
   "execution_count": null,
   "metadata": {},
   "outputs": [],
   "source": [
    "for mor in ['形容詞','動詞','接続詞']:\n",
    "    df=main3(mor,0)\n",
    "    df=df.fillna(0)\n",
    "    df.to_csv(f'./{mor}.csv',encoding='shift-jis')"
   ]
  },
  {
   "cell_type": "code",
   "execution_count": null,
   "metadata": {},
   "outputs": [],
   "source": [
    "#ファイルごと/末尾表現の機械学習を行う\n",
    "def main2():\n",
    "    count_df=pd.DataFrame()\n",
    "    sub_folderes=glob.glob(r'C:\\Users\\icech\\Desktop\\share\\Lab\\2018_10_10\\dataset\\category\\*')\n",
    "    \n",
    "    for folder in sub_folderes:\n",
    "        folder_name=re.sub(r'.+\\\\','',folder)\n",
    "        files=glob.glob(folder+'/*.txt')\n",
    "        for file in files:\n",
    "            txt=[]\n",
    "            txt=clean_txt(file)\n",
    "            word_counter = Counter()\n",
    "            file_name=re.sub(r'.+\\\\','',file)\n",
    "            file_name=re.sub('.txt','',file_name)\n",
    "            colmun_name=folder_name+file_name\n",
    "            cnt1=count_morpheme(txt,word_counter,'動詞')\n",
    "#             cnt2=count_matubi(txt,word_counter)\n",
    "            count_df=count_to_pd(df=count_df,df_name=colmun_name,counter=cnt1)    \n",
    "            print(file_name)\n",
    "    return(count_df)"
   ]
  },
  {
   "cell_type": "code",
   "execution_count": null,
   "metadata": {
    "scrolled": false
   },
   "outputs": [],
   "source": [
    "# df3=main3('hoge',1)\n",
    "df2=main2()\n"
   ]
  },
  {
   "cell_type": "code",
   "execution_count": null,
   "metadata": {},
   "outputs": [],
   "source": [
    "df2=df2.fillna(0)\n",
    "df2.to_csv('./動詞_file毎.csv',encoding='shift-jis')"
   ]
  },
  {
   "cell_type": "code",
   "execution_count": null,
   "metadata": {},
   "outputs": [],
   "source": [
    "\n",
    "df2.head(1000)"
   ]
  },
  {
   "cell_type": "code",
   "execution_count": null,
   "metadata": {},
   "outputs": [],
   "source": []
  }
 ],
 "metadata": {
  "kernelspec": {
   "display_name": "Python 3",
   "language": "python",
   "name": "python3"
  },
  "language_info": {
   "codemirror_mode": {
    "name": "ipython",
    "version": 3
   },
   "file_extension": ".py",
   "mimetype": "text/x-python",
   "name": "python",
   "nbconvert_exporter": "python",
   "pygments_lexer": "ipython3",
   "version": "3.6.6"
  }
 },
 "nbformat": 4,
 "nbformat_minor": 2
}
