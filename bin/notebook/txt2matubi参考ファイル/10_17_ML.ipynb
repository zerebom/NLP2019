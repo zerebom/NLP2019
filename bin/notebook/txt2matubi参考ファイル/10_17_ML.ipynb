{
 "cells": [
  {
   "cell_type": "markdown",
   "metadata": {},
   "source": [
    "10_16MLをより綺麗に書いたコード\n",
    "\n",
    "それぞれに分割した後に上位200語に分類してみる。"
   ]
  },
  {
   "cell_type": "code",
   "execution_count": 24,
   "metadata": {},
   "outputs": [],
   "source": [
    "import pandas as pd \n",
    "import numpy as np\n",
    "import sklearn\n",
    "import seaborn as sns\n",
    "# import matplotlib as plt\n",
    "import matplotlib.pyplot as plt\n",
    "from sklearn.model_selection import cross_val_score\n",
    "from sklearn.model_selection import cross_val_predict\n",
    "import matplotlib.pyplot as plt\n",
    "from sklearn.naive_bayes import MultinomialNB\n",
    "from sklearn.ensemble import RandomForestClassifier\n",
    "from sklearn.feature_extraction.text import TfidfTransformer\n",
    "import warnings\n",
    "warnings.filterwarnings('ignore')\n",
    "from sklearn.metrics import confusion_matrix\n",
    "from sklearn.metrics import classification_report\n"
   ]
  },
  {
   "cell_type": "code",
   "execution_count": 25,
   "metadata": {},
   "outputs": [],
   "source": [
    "mdf=pd.read_csv('./末尾_file毎.csv', engine='python')\n",
    "kdf=pd.read_csv('./形容詞_file毎.csv', engine='python')\n",
    "# df['sum_word']=df.sum(axis=1).astype(int)\n",
    "# df.sort_values('sum_word',inplace=True,ascending=False)\n",
    "# df.reset_index(drop=True,inplace=True)"
   ]
  },
  {
   "cell_type": "code",
   "execution_count": null,
   "metadata": {},
   "outputs": [],
   "source": []
  },
  {
   "cell_type": "code",
   "execution_count": 33,
   "metadata": {},
   "outputs": [],
   "source": [
    "def preproDF(df,word):\n",
    "    fdf=pd.DataFrame()\n",
    "    fdf=df.loc[:,df.columns.str.contains(word)]\n",
    "    fdf['sum_word']=fdf.sum(axis=1).astype(int)\n",
    "    fdf=fdf.sort_values('sum_word',ascending=False)\n",
    "    fdf['kouseihi']=fdf['sum_word']/fdf['sum_word'].sum()\n",
    "    fdf['ruisekihi']=fdf['sum_word'].cumsum()/fdf['sum_word'].sum()\n",
    "\n",
    "    fdf=fdf.reset_index(drop=True)\n",
    "    fdf=fdf[fdf['kouseihi']>0.0004]\n",
    "    fdf.drop(columns=['sum_word','kouseihi','ruisekihi'],inplace=True)\n",
    "    fdf=fdf.T\n",
    "\n",
    "    fdf['label']=1\n",
    "    fdf.loc[fdf.index.str.contains(word+'減'),'label']=0\n",
    "    \n",
    "    target=fdf['label']\n",
    "    fdf=fdf.drop(columns=['label'])\n",
    "#     fdf=fdf.reset_index(drop=True)\n",
    "    return(fdf,target)\n",
    "\n",
    "def ML(df,y):\n",
    "    clf = MultinomialNB()\n",
    "    clf2 = RandomForestClassifier()\n",
    "    \n",
    "    tfidf=TfidfTransformer(use_idf=True,norm='l2',smooth_idf=True)\n",
    "    x=tfidf.fit_transform(df.values)\n",
    "    \n",
    "    print()\n",
    "    \n",
    "    y_pred=cross_val_score(clf,df.values, y.values,cv=50)\n",
    "    y_pred2=cross_val_score(clf2,df.values, y.values,cv=50)\n",
    "    \n",
    "    tfy_pred=cross_val_score(clf,x, y.values,cv=50)\n",
    "    tfy_pred2=cross_val_score(clf2,x, y.values,cv=50)\n",
    "    \n",
    "    print(df.shape,(y_pred.mean()*100).round(1),(y_pred2.mean()*100).round(1),(tfy_pred.mean()*100).round(1),(tfy_pred2.mean()*100).round(1))\n",
    "    \n",
    "def confmat(y_values,y_pred,target_name):\n",
    "    print (classification_report(y_values,y_pred,target_names=target_names)) \n",
    "    confmat=confusion_matrix(y_true=y_values,y_pred=y_pred)\n",
    "    fig,ax=plt.subplots(figsize=(2.5,2.5))\n",
    "    ax.matshow(confmat,cmap=plt.cm.Blues,alpha=0.3)\n",
    "    for i in range(confmat.shape[0]):\n",
    "        for j in range(confmat.shape[1]):\n",
    "            ax.text(x=j,y=i,s=confmat[i,j],va='center',ha='center')\n",
    "    plt.xlabel('predicted label')       \n",
    "    plt.ylabel('true label')     \n",
    "    plt.tight_layout()\n",
    "    plt.show()"
   ]
  },
  {
   "cell_type": "code",
   "execution_count": null,
   "metadata": {},
   "outputs": [],
   "source": []
  },
  {
   "cell_type": "code",
   "execution_count": 34,
   "metadata": {},
   "outputs": [],
   "source": [
    "clf = MultinomialNB()\n",
    "clf2 = RandomForestClassifier(random_state=1)\n",
    "    \n",
    "\n",
    "kdf1,y1=preproDF(kdf,'先行')\n",
    "kdf2,y2=preproDF(kdf,'一致')\n",
    "kdf3,y3=preproDF(kdf,'遅行')\n",
    "\n",
    "mdf1,y1=preproDF(mdf,'先行')\n",
    "mdf2,y2=preproDF(mdf,'一致')\n",
    "mdf3,y3=preproDF(mdf,'遅行')\n",
    "\n",
    "adf1=pd.concat([kdf1,mdf1],keys=['k','m'],axis=1)\n",
    "adf2=pd.concat([kdf2,mdf2],keys=['k','m'],axis=1)\n",
    "adf3=pd.concat([kdf3,mdf3],keys=['k','m'],axis=1)"
   ]
  },
  {
   "cell_type": "code",
   "execution_count": null,
   "metadata": {},
   "outputs": [],
   "source": []
  },
  {
   "cell_type": "code",
   "execution_count": 39,
   "metadata": {},
   "outputs": [
    {
     "name": "stdout",
     "output_type": "stream",
     "text": [
      "(118, 107)\n",
      "             precision    recall  f1-score   support\n",
      "\n",
      "         上昇       0.68      0.62      0.65        61\n",
      "         降下       0.63      0.68      0.66        57\n",
      "\n",
      "avg / total       0.65      0.65      0.65       118\n",
      "\n"
     ]
    },
    {
     "data": {
      "image/png": "[encoded data removed]",
      "text/plain": [
       "<Figure size 180x180 with 1 Axes>"
      ]
     },
     "metadata": {},
     "output_type": "display_data"
    },
    {
     "name": "stdout",
     "output_type": "stream",
     "text": [
      "(123, 104)\n",
      "             precision    recall  f1-score   support\n",
      "\n",
      "         上昇       0.62      0.72      0.67        61\n",
      "         降下       0.67      0.56      0.61        62\n",
      "\n",
      "avg / total       0.65      0.64      0.64       123\n",
      "\n"
     ]
    },
    {
     "data": {
      "image/png": "[encoded data removed]",
      "text/plain": [
       "<Figure size 180x180 with 1 Axes>"
      ]
     },
     "metadata": {},
     "output_type": "display_data"
    },
    {
     "name": "stdout",
     "output_type": "stream",
     "text": [
      "(111, 112)\n",
      "             precision    recall  f1-score   support\n",
      "\n",
      "         上昇       0.71      0.64      0.67        66\n",
      "         降下       0.54      0.62      0.58        45\n",
      "\n",
      "avg / total       0.64      0.63      0.63       111\n",
      "\n"
     ]
    },
    {
     "data": {
      "image/png": "[encoded data removed]",
      "text/plain": [
       "<Figure size 180x180 with 1 Axes>"
      ]
     },
     "metadata": {},
     "output_type": "display_data"
    }
   ],
   "source": [
    "clf = MultinomialNB()\n",
    "clf2 = RandomForestClassifier(random_state=1)\n",
    "target_names=['上昇','降下']\n",
    "\n",
    "for df,y in zip([kdf1,kdf2,kdf3],[y1,y2,y3]):\n",
    "    clf.fit(df.values,y.values)\n",
    "    print(df.shape)\n",
    "    y_pred=cross_val_predict(clf,df.values,y.values,cv=50)\n",
    "    confmat(y.values,y_pred,target_names)"
   ]
  },
  {
   "cell_type": "code",
   "execution_count": 40,
   "metadata": {},
   "outputs": [
    {
     "name": "stdout",
     "output_type": "stream",
     "text": [
      "(118, 167)\n",
      "             precision    recall  f1-score   support\n",
      "\n",
      "         上昇       0.61      0.67      0.64        61\n",
      "         降下       0.61      0.54      0.57        57\n",
      "\n",
      "avg / total       0.61      0.61      0.61       118\n",
      "\n"
     ]
    },
    {
     "data": {
      "image/png": "[encoded data removed]",
      "text/plain": [
       "<Figure size 180x180 with 1 Axes>"
      ]
     },
     "metadata": {},
     "output_type": "display_data"
    },
    {
     "name": "stdout",
     "output_type": "stream",
     "text": [
      "(123, 172)\n",
      "             precision    recall  f1-score   support\n",
      "\n",
      "         上昇       0.64      0.48      0.55        61\n",
      "         降下       0.59      0.74      0.66        62\n",
      "\n",
      "avg / total       0.62      0.61      0.60       123\n",
      "\n"
     ]
    },
    {
     "data": {
      "image/png": "[encoded data removed]",
      "text/plain": [
       "<Figure size 180x180 with 1 Axes>"
      ]
     },
     "metadata": {},
     "output_type": "display_data"
    },
    {
     "name": "stdout",
     "output_type": "stream",
     "text": [
      "(111, 160)\n",
      "             precision    recall  f1-score   support\n",
      "\n",
      "         上昇       0.64      0.77      0.70        66\n",
      "         降下       0.52      0.36      0.42        45\n",
      "\n",
      "avg / total       0.59      0.60      0.59       111\n",
      "\n"
     ]
    },
    {
     "data": {
      "image/png": "[encoded data removed]",
      "text/plain": [
       "<Figure size 180x180 with 1 Axes>"
      ]
     },
     "metadata": {},
     "output_type": "display_data"
    }
   ],
   "source": [
    "for df,y in zip([mdf1,mdf2,mdf3],[y1,y2,y3]):\n",
    "    clf.fit(df.values,y.values)\n",
    "    print(df.shape)\n",
    "    y_pred=cross_val_predict(clf,df.values,y.values,cv=50)\n",
    "    confmat(y.values,y_pred,target_names)"
   ]
  },
  {
   "cell_type": "code",
   "execution_count": 41,
   "metadata": {},
   "outputs": [
    {
     "name": "stdout",
     "output_type": "stream",
     "text": [
      "\n",
      "翌月比  ベイズ RF ベイズTF RFIDF\n",
      "\n",
      "(118, 107) 65.5 60.3 62.3 69.7\n",
      "\n",
      "(123, 104) 64.7 61.2 62.7 53.7\n",
      "\n",
      "(111, 112) 61.0 55.0 60.3 58.7\n",
      "当月比  ベイズ RF ベイズTF RFIDF\n",
      "\n",
      "(118, 167) 59.7 70.0 57.8 63.3\n",
      "\n",
      "(123, 172) 62.3 55.8 62.7 56.2\n",
      "\n",
      "(111, 160) 60.0 50.7 64.3 50.7\n",
      "\n",
      "前月比  ベイズ RF ベイズTF RFIDF\n",
      "\n",
      "(118, 274) 60.7 60.8 59.8 65.5\n",
      "\n",
      "(123, 276) 63.8 58.7 61.7 67.7\n",
      "\n",
      "(111, 272) 58.7 55.3 64.3 58.0\n"
     ]
    }
   ],
   "source": [
    "print()\n",
    "print('翌月比  ベイズ RF ベイズTF RFIDF')\n",
    "ML(kdf1,y1)\n",
    "ML(kdf2,y2)\n",
    "ML(kdf3,y3)\n",
    "print('当月比  ベイズ RF ベイズTF RFIDF')\n",
    "ML(mdf1,y1)\n",
    "ML(mdf2,y2)\n",
    "ML(mdf3,y3)\n",
    "print()\n",
    "print('前月比  ベイズ RF ベイズTF RFIDF')\n",
    "ML(adf1,y1)\n",
    "ML(adf2,y2)\n",
    "ML(adf3,y3)\n"
   ]
  },
  {
   "cell_type": "code",
   "execution_count": null,
   "metadata": {},
   "outputs": [],
   "source": []
  },
  {
   "cell_type": "code",
   "execution_count": 237,
   "metadata": {},
   "outputs": [],
   "source": [
    "from sklearn.grid_search import GridSearchCV\n",
    "from sklearn.neural_network import MLPClassifier\n",
    "def tuning(X,Y):\n",
    "    \n",
    "    X,Y = X.values, Y.values\n",
    "\n",
    "    tuned_parameters = [\n",
    "    \t{'hidden_layer_sizes': [(100,),(200,),(100,100),(200,200)], 'learning_rate': ['invscaling', 'adaptive', 'constant'],\n",
    "         'activation': ['logistic', 'identity', 'relu', 'tanh']},\n",
    "    ]\n",
    "    gsearch = GridSearchCV(MLPClassifier(max_iter=50), tuned_parameters, cv=4, scoring='accuracy', n_jobs=4)\n",
    "    gsearch.fit(X, Y)\n",
    "\n",
    "    print(\"ベストパラメータ:\")\n",
    "    print(gsearch.best_estimator_)\n",
    "\n",
    "    print(\"各パラメータの平均スコア\")\n",
    "    for params, mean_score, all_scores in sorted(gsearch.grid_scores_, key=lambda k: k[1],reverse=True) :\n",
    "        print(\"{:.3f} std:{:.3f} param: {}\".format(mean_score, all_scores.std() , params))"
   ]
  },
  {
   "cell_type": "code",
   "execution_count": 182,
   "metadata": {},
   "outputs": [
    {
     "name": "stdout",
     "output_type": "stream",
     "text": [
      "ベストパラメータ:\n",
      "MLPClassifier(activation='logistic', alpha=0.0001, batch_size='auto',\n",
      "       beta_1=0.9, beta_2=0.999, early_stopping=False, epsilon=1e-08,\n",
      "       hidden_layer_sizes=(200, 200), learning_rate='invscaling',\n",
      "       learning_rate_init=0.001, max_iter=50, momentum=0.9,\n",
      "       nesterovs_momentum=True, power_t=0.5, random_state=None,\n",
      "       shuffle=True, solver='adam', tol=0.0001, validation_fraction=0.1,\n",
      "       verbose=False, warm_start=False)\n",
      "各パラメータの平均スコア\n",
      "0.649 std:0.060 param: {'activation': 'logistic', 'hidden_layer_sizes': (200, 200), 'learning_rate': 'invscaling'}\n",
      "0.640 std:0.074 param: {'activation': 'logistic', 'hidden_layer_sizes': (100,), 'learning_rate': 'constant'}\n",
      "0.631 std:0.069 param: {'activation': 'logistic', 'hidden_layer_sizes': (200,), 'learning_rate': 'adaptive'}\n",
      "0.631 std:0.044 param: {'activation': 'logistic', 'hidden_layer_sizes': (200,), 'learning_rate': 'constant'}\n",
      "0.622 std:0.071 param: {'activation': 'logistic', 'hidden_layer_sizes': (200,), 'learning_rate': 'invscaling'}\n",
      "0.622 std:0.048 param: {'activation': 'tanh', 'hidden_layer_sizes': (200,), 'learning_rate': 'constant'}\n",
      "0.613 std:0.032 param: {'activation': 'logistic', 'hidden_layer_sizes': (100, 100), 'learning_rate': 'constant'}\n",
      "0.613 std:0.081 param: {'activation': 'logistic', 'hidden_layer_sizes': (200, 200), 'learning_rate': 'adaptive'}\n",
      "0.613 std:0.055 param: {'activation': 'identity', 'hidden_layer_sizes': (100,), 'learning_rate': 'constant'}\n",
      "0.604 std:0.085 param: {'activation': 'logistic', 'hidden_layer_sizes': (100,), 'learning_rate': 'invscaling'}\n",
      "0.604 std:0.102 param: {'activation': 'logistic', 'hidden_layer_sizes': (200, 200), 'learning_rate': 'constant'}\n",
      "0.604 std:0.044 param: {'activation': 'identity', 'hidden_layer_sizes': (100, 100), 'learning_rate': 'adaptive'}\n",
      "0.604 std:0.058 param: {'activation': 'identity', 'hidden_layer_sizes': (200, 200), 'learning_rate': 'adaptive'}\n",
      "0.604 std:0.066 param: {'activation': 'relu', 'hidden_layer_sizes': (200,), 'learning_rate': 'invscaling'}\n",
      "0.604 std:0.081 param: {'activation': 'tanh', 'hidden_layer_sizes': (100,), 'learning_rate': 'constant'}\n",
      "0.595 std:0.097 param: {'activation': 'logistic', 'hidden_layer_sizes': (100, 100), 'learning_rate': 'invscaling'}\n",
      "0.595 std:0.066 param: {'activation': 'logistic', 'hidden_layer_sizes': (100, 100), 'learning_rate': 'adaptive'}\n",
      "0.595 std:0.027 param: {'activation': 'identity', 'hidden_layer_sizes': (200,), 'learning_rate': 'invscaling'}\n",
      "0.595 std:0.068 param: {'activation': 'identity', 'hidden_layer_sizes': (200,), 'learning_rate': 'constant'}\n",
      "0.595 std:0.071 param: {'activation': 'relu', 'hidden_layer_sizes': (100,), 'learning_rate': 'invscaling'}\n",
      "0.595 std:0.090 param: {'activation': 'tanh', 'hidden_layer_sizes': (100,), 'learning_rate': 'adaptive'}\n",
      "0.595 std:0.113 param: {'activation': 'tanh', 'hidden_layer_sizes': (200,), 'learning_rate': 'invscaling'}\n",
      "0.595 std:0.043 param: {'activation': 'tanh', 'hidden_layer_sizes': (100, 100), 'learning_rate': 'adaptive'}\n",
      "0.595 std:0.087 param: {'activation': 'tanh', 'hidden_layer_sizes': (200, 200), 'learning_rate': 'invscaling'}\n",
      "0.586 std:0.054 param: {'activation': 'relu', 'hidden_layer_sizes': (200, 200), 'learning_rate': 'invscaling'}\n",
      "0.586 std:0.099 param: {'activation': 'tanh', 'hidden_layer_sizes': (200, 200), 'learning_rate': 'adaptive'}\n",
      "0.577 std:0.076 param: {'activation': 'logistic', 'hidden_layer_sizes': (100,), 'learning_rate': 'adaptive'}\n",
      "0.577 std:0.058 param: {'activation': 'identity', 'hidden_layer_sizes': (100, 100), 'learning_rate': 'constant'}\n",
      "0.577 std:0.076 param: {'activation': 'identity', 'hidden_layer_sizes': (200, 200), 'learning_rate': 'constant'}\n",
      "0.577 std:0.115 param: {'activation': 'tanh', 'hidden_layer_sizes': (200,), 'learning_rate': 'adaptive'}\n",
      "0.577 std:0.102 param: {'activation': 'tanh', 'hidden_layer_sizes': (200, 200), 'learning_rate': 'constant'}\n",
      "0.559 std:0.077 param: {'activation': 'relu', 'hidden_layer_sizes': (100,), 'learning_rate': 'constant'}\n",
      "0.559 std:0.021 param: {'activation': 'relu', 'hidden_layer_sizes': (200, 200), 'learning_rate': 'adaptive'}\n",
      "0.550 std:0.025 param: {'activation': 'identity', 'hidden_layer_sizes': (200, 200), 'learning_rate': 'invscaling'}\n",
      "0.550 std:0.064 param: {'activation': 'tanh', 'hidden_layer_sizes': (100, 100), 'learning_rate': 'invscaling'}\n",
      "0.541 std:0.100 param: {'activation': 'tanh', 'hidden_layer_sizes': (100, 100), 'learning_rate': 'constant'}\n",
      "0.532 std:0.066 param: {'activation': 'identity', 'hidden_layer_sizes': (100,), 'learning_rate': 'adaptive'}\n",
      "0.532 std:0.128 param: {'activation': 'identity', 'hidden_layer_sizes': (200,), 'learning_rate': 'adaptive'}\n",
      "0.532 std:0.092 param: {'activation': 'relu', 'hidden_layer_sizes': (100,), 'learning_rate': 'adaptive'}\n",
      "0.532 std:0.033 param: {'activation': 'relu', 'hidden_layer_sizes': (200, 200), 'learning_rate': 'constant'}\n",
      "0.532 std:0.120 param: {'activation': 'tanh', 'hidden_layer_sizes': (100,), 'learning_rate': 'invscaling'}\n",
      "0.523 std:0.105 param: {'activation': 'relu', 'hidden_layer_sizes': (200,), 'learning_rate': 'adaptive'}\n",
      "0.514 std:0.063 param: {'activation': 'identity', 'hidden_layer_sizes': (100, 100), 'learning_rate': 'invscaling'}\n",
      "0.514 std:0.157 param: {'activation': 'relu', 'hidden_layer_sizes': (100, 100), 'learning_rate': 'invscaling'}\n",
      "0.505 std:0.085 param: {'activation': 'relu', 'hidden_layer_sizes': (200,), 'learning_rate': 'constant'}\n",
      "0.505 std:0.092 param: {'activation': 'relu', 'hidden_layer_sizes': (100, 100), 'learning_rate': 'adaptive'}\n",
      "0.486 std:0.082 param: {'activation': 'relu', 'hidden_layer_sizes': (100, 100), 'learning_rate': 'constant'}\n",
      "0.477 std:0.019 param: {'activation': 'identity', 'hidden_layer_sizes': (100,), 'learning_rate': 'invscaling'}\n",
      "ベストパラメータ:\n",
      "MLPClassifier(activation='relu', alpha=0.0001, batch_size='auto', beta_1=0.9,\n",
      "       beta_2=0.999, early_stopping=False, epsilon=1e-08,\n",
      "       hidden_layer_sizes=(100, 100), learning_rate='adaptive',\n",
      "       learning_rate_init=0.001, max_iter=50, momentum=0.9,\n",
      "       nesterovs_momentum=True, power_t=0.5, random_state=None,\n",
      "       shuffle=True, solver='adam', tol=0.0001, validation_fraction=0.1,\n",
      "       verbose=False, warm_start=False)\n",
      "各パラメータの平均スコア\n",
      "0.610 std:0.092 param: {'activation': 'relu', 'hidden_layer_sizes': (100, 100), 'learning_rate': 'adaptive'}\n",
      "0.610 std:0.046 param: {'activation': 'tanh', 'hidden_layer_sizes': (200,), 'learning_rate': 'invscaling'}\n",
      "0.602 std:0.056 param: {'activation': 'tanh', 'hidden_layer_sizes': (200,), 'learning_rate': 'constant'}\n",
      "0.585 std:0.047 param: {'activation': 'logistic', 'hidden_layer_sizes': (200,), 'learning_rate': 'invscaling'}\n",
      "0.585 std:0.142 param: {'activation': 'identity', 'hidden_layer_sizes': (200, 200), 'learning_rate': 'invscaling'}\n",
      "0.577 std:0.036 param: {'activation': 'logistic', 'hidden_layer_sizes': (100,), 'learning_rate': 'adaptive'}\n",
      "0.577 std:0.015 param: {'activation': 'logistic', 'hidden_layer_sizes': (200,), 'learning_rate': 'constant'}\n",
      "0.577 std:0.052 param: {'activation': 'identity', 'hidden_layer_sizes': (100, 100), 'learning_rate': 'invscaling'}\n",
      "0.569 std:0.019 param: {'activation': 'relu', 'hidden_layer_sizes': (200,), 'learning_rate': 'invscaling'}\n",
      "0.569 std:0.019 param: {'activation': 'tanh', 'hidden_layer_sizes': (100, 100), 'learning_rate': 'adaptive'}\n",
      "0.569 std:0.100 param: {'activation': 'tanh', 'hidden_layer_sizes': (200, 200), 'learning_rate': 'constant'}\n",
      "0.561 std:0.018 param: {'activation': 'logistic', 'hidden_layer_sizes': (200,), 'learning_rate': 'adaptive'}\n",
      "0.561 std:0.039 param: {'activation': 'logistic', 'hidden_layer_sizes': (100, 100), 'learning_rate': 'adaptive'}\n",
      "0.561 std:0.066 param: {'activation': 'relu', 'hidden_layer_sizes': (200,), 'learning_rate': 'adaptive'}\n",
      "0.561 std:0.097 param: {'activation': 'relu', 'hidden_layer_sizes': (200, 200), 'learning_rate': 'constant'}\n",
      "0.561 std:0.017 param: {'activation': 'tanh', 'hidden_layer_sizes': (100, 100), 'learning_rate': 'invscaling'}\n",
      "0.553 std:0.015 param: {'activation': 'logistic', 'hidden_layer_sizes': (100, 100), 'learning_rate': 'invscaling'}\n",
      "0.545 std:0.014 param: {'activation': 'logistic', 'hidden_layer_sizes': (100,), 'learning_rate': 'invscaling'}\n",
      "0.545 std:0.014 param: {'activation': 'logistic', 'hidden_layer_sizes': (100,), 'learning_rate': 'constant'}\n",
      "0.545 std:0.054 param: {'activation': 'logistic', 'hidden_layer_sizes': (200, 200), 'learning_rate': 'invscaling'}\n",
      "0.545 std:0.081 param: {'activation': 'identity', 'hidden_layer_sizes': (200, 200), 'learning_rate': 'adaptive'}\n",
      "0.545 std:0.053 param: {'activation': 'relu', 'hidden_layer_sizes': (200,), 'learning_rate': 'constant'}\n",
      "0.545 std:0.070 param: {'activation': 'relu', 'hidden_layer_sizes': (200, 200), 'learning_rate': 'adaptive'}\n",
      "0.545 std:0.056 param: {'activation': 'tanh', 'hidden_layer_sizes': (200, 200), 'learning_rate': 'invscaling'}\n",
      "0.545 std:0.099 param: {'activation': 'tanh', 'hidden_layer_sizes': (200, 200), 'learning_rate': 'adaptive'}\n",
      "0.537 std:0.034 param: {'activation': 'logistic', 'hidden_layer_sizes': (100, 100), 'learning_rate': 'constant'}\n",
      "0.537 std:0.064 param: {'activation': 'logistic', 'hidden_layer_sizes': (200, 200), 'learning_rate': 'constant'}\n",
      "0.537 std:0.023 param: {'activation': 'identity', 'hidden_layer_sizes': (200,), 'learning_rate': 'constant'}\n",
      "0.537 std:0.088 param: {'activation': 'tanh', 'hidden_layer_sizes': (100,), 'learning_rate': 'adaptive'}\n",
      "0.528 std:0.045 param: {'activation': 'logistic', 'hidden_layer_sizes': (200, 200), 'learning_rate': 'adaptive'}\n",
      "0.528 std:0.084 param: {'activation': 'identity', 'hidden_layer_sizes': (200, 200), 'learning_rate': 'constant'}\n",
      "0.528 std:0.063 param: {'activation': 'tanh', 'hidden_layer_sizes': (100,), 'learning_rate': 'invscaling'}\n",
      "0.520 std:0.112 param: {'activation': 'identity', 'hidden_layer_sizes': (100,), 'learning_rate': 'adaptive'}\n",
      "0.520 std:0.035 param: {'activation': 'relu', 'hidden_layer_sizes': (200, 200), 'learning_rate': 'invscaling'}\n",
      "0.520 std:0.077 param: {'activation': 'tanh', 'hidden_layer_sizes': (100, 100), 'learning_rate': 'constant'}\n",
      "0.512 std:0.142 param: {'activation': 'relu', 'hidden_layer_sizes': (100,), 'learning_rate': 'invscaling'}\n",
      "0.512 std:0.057 param: {'activation': 'relu', 'hidden_layer_sizes': (100, 100), 'learning_rate': 'constant'}\n",
      "0.496 std:0.119 param: {'activation': 'relu', 'hidden_layer_sizes': (100,), 'learning_rate': 'constant'}\n",
      "0.488 std:0.111 param: {'activation': 'identity', 'hidden_layer_sizes': (100,), 'learning_rate': 'invscaling'}\n",
      "0.488 std:0.081 param: {'activation': 'identity', 'hidden_layer_sizes': (200,), 'learning_rate': 'adaptive'}\n",
      "0.488 std:0.049 param: {'activation': 'identity', 'hidden_layer_sizes': (100, 100), 'learning_rate': 'constant'}\n",
      "0.488 std:0.049 param: {'activation': 'tanh', 'hidden_layer_sizes': (200,), 'learning_rate': 'adaptive'}\n",
      "0.480 std:0.091 param: {'activation': 'identity', 'hidden_layer_sizes': (200,), 'learning_rate': 'invscaling'}\n",
      "0.480 std:0.136 param: {'activation': 'identity', 'hidden_layer_sizes': (100, 100), 'learning_rate': 'adaptive'}\n",
      "0.480 std:0.053 param: {'activation': 'tanh', 'hidden_layer_sizes': (100,), 'learning_rate': 'constant'}\n",
      "0.472 std:0.137 param: {'activation': 'relu', 'hidden_layer_sizes': (100, 100), 'learning_rate': 'invscaling'}\n",
      "0.463 std:0.119 param: {'activation': 'relu', 'hidden_layer_sizes': (100,), 'learning_rate': 'adaptive'}\n",
      "0.455 std:0.077 param: {'activation': 'identity', 'hidden_layer_sizes': (100,), 'learning_rate': 'constant'}\n"
     ]
    },
    {
     "name": "stdout",
     "output_type": "stream",
     "text": [
      "ベストパラメータ:\n",
      "MLPClassifier(activation='identity', alpha=0.0001, batch_size='auto',\n",
      "       beta_1=0.9, beta_2=0.999, early_stopping=False, epsilon=1e-08,\n",
      "       hidden_layer_sizes=(200, 200), learning_rate='adaptive',\n",
      "       learning_rate_init=0.001, max_iter=50, momentum=0.9,\n",
      "       nesterovs_momentum=True, power_t=0.5, random_state=None,\n",
      "       shuffle=True, solver='adam', tol=0.0001, validation_fraction=0.1,\n",
      "       verbose=False, warm_start=False)\n",
      "各パラメータの平均スコア\n",
      "0.627 std:0.129 param: {'activation': 'identity', 'hidden_layer_sizes': (200, 200), 'learning_rate': 'adaptive'}\n",
      "0.619 std:0.070 param: {'activation': 'tanh', 'hidden_layer_sizes': (200,), 'learning_rate': 'invscaling'}\n",
      "0.610 std:0.099 param: {'activation': 'logistic', 'hidden_layer_sizes': (200, 200), 'learning_rate': 'invscaling'}\n",
      "0.610 std:0.096 param: {'activation': 'logistic', 'hidden_layer_sizes': (200, 200), 'learning_rate': 'adaptive'}\n",
      "0.602 std:0.090 param: {'activation': 'logistic', 'hidden_layer_sizes': (200, 200), 'learning_rate': 'constant'}\n",
      "0.593 std:0.071 param: {'activation': 'tanh', 'hidden_layer_sizes': (200,), 'learning_rate': 'adaptive'}\n",
      "0.585 std:0.088 param: {'activation': 'logistic', 'hidden_layer_sizes': (100,), 'learning_rate': 'adaptive'}\n",
      "0.585 std:0.088 param: {'activation': 'logistic', 'hidden_layer_sizes': (200,), 'learning_rate': 'adaptive'}\n",
      "0.585 std:0.109 param: {'activation': 'logistic', 'hidden_layer_sizes': (100, 100), 'learning_rate': 'constant'}\n",
      "0.576 std:0.079 param: {'activation': 'logistic', 'hidden_layer_sizes': (100,), 'learning_rate': 'invscaling'}\n",
      "0.576 std:0.079 param: {'activation': 'logistic', 'hidden_layer_sizes': (200,), 'learning_rate': 'invscaling'}\n",
      "0.576 std:0.079 param: {'activation': 'logistic', 'hidden_layer_sizes': (100, 100), 'learning_rate': 'invscaling'}\n",
      "0.576 std:0.029 param: {'activation': 'identity', 'hidden_layer_sizes': (100,), 'learning_rate': 'adaptive'}\n",
      "0.576 std:0.093 param: {'activation': 'tanh', 'hidden_layer_sizes': (200, 200), 'learning_rate': 'invscaling'}\n",
      "0.568 std:0.090 param: {'activation': 'logistic', 'hidden_layer_sizes': (200,), 'learning_rate': 'constant'}\n",
      "0.568 std:0.062 param: {'activation': 'identity', 'hidden_layer_sizes': (200, 200), 'learning_rate': 'constant'}\n",
      "0.568 std:0.105 param: {'activation': 'relu', 'hidden_layer_sizes': (100,), 'learning_rate': 'invscaling'}\n",
      "0.559 std:0.079 param: {'activation': 'identity', 'hidden_layer_sizes': (200,), 'learning_rate': 'constant'}\n",
      "0.559 std:0.060 param: {'activation': 'relu', 'hidden_layer_sizes': (100, 100), 'learning_rate': 'adaptive'}\n",
      "0.551 std:0.103 param: {'activation': 'logistic', 'hidden_layer_sizes': (100,), 'learning_rate': 'constant'}\n",
      "0.551 std:0.065 param: {'activation': 'logistic', 'hidden_layer_sizes': (100, 100), 'learning_rate': 'adaptive'}\n",
      "0.551 std:0.088 param: {'activation': 'identity', 'hidden_layer_sizes': (100, 100), 'learning_rate': 'constant'}\n",
      "0.551 std:0.119 param: {'activation': 'relu', 'hidden_layer_sizes': (100, 100), 'learning_rate': 'invscaling'}\n",
      "0.551 std:0.055 param: {'activation': 'relu', 'hidden_layer_sizes': (100, 100), 'learning_rate': 'constant'}\n",
      "0.551 std:0.095 param: {'activation': 'tanh', 'hidden_layer_sizes': (200,), 'learning_rate': 'constant'}\n",
      "0.551 std:0.081 param: {'activation': 'tanh', 'hidden_layer_sizes': (100, 100), 'learning_rate': 'constant'}\n",
      "0.551 std:0.131 param: {'activation': 'tanh', 'hidden_layer_sizes': (200, 200), 'learning_rate': 'constant'}\n",
      "0.542 std:0.089 param: {'activation': 'relu', 'hidden_layer_sizes': (200,), 'learning_rate': 'constant'}\n",
      "0.534 std:0.038 param: {'activation': 'tanh', 'hidden_layer_sizes': (100, 100), 'learning_rate': 'adaptive'}\n",
      "0.525 std:0.028 param: {'activation': 'tanh', 'hidden_layer_sizes': (100,), 'learning_rate': 'invscaling'}\n",
      "0.525 std:0.080 param: {'activation': 'tanh', 'hidden_layer_sizes': (100, 100), 'learning_rate': 'invscaling'}\n",
      "0.517 std:0.077 param: {'activation': 'relu', 'hidden_layer_sizes': (200, 200), 'learning_rate': 'invscaling'}\n",
      "0.517 std:0.054 param: {'activation': 'tanh', 'hidden_layer_sizes': (200, 200), 'learning_rate': 'adaptive'}\n",
      "0.508 std:0.028 param: {'activation': 'identity', 'hidden_layer_sizes': (100,), 'learning_rate': 'constant'}\n",
      "0.508 std:0.096 param: {'activation': 'relu', 'hidden_layer_sizes': (200,), 'learning_rate': 'adaptive'}\n",
      "0.508 std:0.075 param: {'activation': 'tanh', 'hidden_layer_sizes': (100,), 'learning_rate': 'constant'}\n",
      "0.500 std:0.062 param: {'activation': 'identity', 'hidden_layer_sizes': (200,), 'learning_rate': 'adaptive'}\n",
      "0.500 std:0.062 param: {'activation': 'relu', 'hidden_layer_sizes': (200, 200), 'learning_rate': 'adaptive'}\n",
      "0.492 std:0.107 param: {'activation': 'relu', 'hidden_layer_sizes': (100,), 'learning_rate': 'constant'}\n",
      "0.483 std:0.147 param: {'activation': 'identity', 'hidden_layer_sizes': (200, 200), 'learning_rate': 'invscaling'}\n",
      "0.483 std:0.136 param: {'activation': 'relu', 'hidden_layer_sizes': (200, 200), 'learning_rate': 'constant'}\n",
      "0.483 std:0.024 param: {'activation': 'tanh', 'hidden_layer_sizes': (100,), 'learning_rate': 'adaptive'}\n",
      "0.475 std:0.113 param: {'activation': 'relu', 'hidden_layer_sizes': (200,), 'learning_rate': 'invscaling'}\n",
      "0.458 std:0.075 param: {'activation': 'relu', 'hidden_layer_sizes': (100,), 'learning_rate': 'adaptive'}\n",
      "0.449 std:0.109 param: {'activation': 'identity', 'hidden_layer_sizes': (100,), 'learning_rate': 'invscaling'}\n",
      "0.449 std:0.140 param: {'activation': 'identity', 'hidden_layer_sizes': (200,), 'learning_rate': 'invscaling'}\n",
      "0.432 std:0.055 param: {'activation': 'identity', 'hidden_layer_sizes': (100, 100), 'learning_rate': 'invscaling'}\n",
      "0.424 std:0.102 param: {'activation': 'identity', 'hidden_layer_sizes': (100, 100), 'learning_rate': 'adaptive'}\n"
     ]
    }
   ],
   "source": [
    "tuning(adf3,y3)\n",
    "tuning(adf2,y2)\n",
    "tuning(adf1,y1)"
   ]
  },
  {
   "cell_type": "code",
   "execution_count": null,
   "metadata": {},
   "outputs": [],
   "source": []
  },
  {
   "cell_type": "code",
   "execution_count": null,
   "metadata": {},
   "outputs": [],
   "source": []
  },
  {
   "cell_type": "code",
   "execution_count": null,
   "metadata": {},
   "outputs": [],
   "source": []
  }
 ],
 "metadata": {
  "kernelspec": {
   "display_name": "Python 3",
   "language": "python",
   "name": "python3"
  },
  "language_info": {
   "codemirror_mode": {
    "name": "ipython",
    "version": 3
   },
   "file_extension": ".py",
   "mimetype": "text/x-python",
   "name": "python",
   "nbconvert_exporter": "python",
   "pygments_lexer": "ipython3",
   "version": "3.6.6"
  }
 },
 "nbformat": 4,
 "nbformat_minor": 2
}
