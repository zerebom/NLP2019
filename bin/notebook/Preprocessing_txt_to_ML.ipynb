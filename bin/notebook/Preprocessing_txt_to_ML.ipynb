{
 "cells": [
  {
   "cell_type": "code",
   "execution_count": null,
   "metadata": {},
   "outputs": [],
   "source": [
    "%load_ext autoreload\n",
    "%autoreload 2\n",
    "import sys;sys.path.append('../src')\n",
    "from MLP import *\n",
    "import seaborn as sns"
   ]
  },
  {
   "cell_type": "code",
   "execution_count": null,
   "metadata": {},
   "outputs": [],
   "source": [
    "new_path='../../data/new_text/'\n",
    "old_path='../../data/old_text/'\n",
    "\n",
    "newfiles=os.listdir(new_path)\n",
    "oldfiles=os.listdir(old_path)\n",
    "\n",
    "newPt=Preprocessing_txt()\n",
    "oldPt=Preprocessing_txt()\n",
    "\n",
    "\n",
    "\n",
    "def read_folder_and_update_dic(Pt,path,files,Flg_matubi=0):\n",
    "    file_lens=[]\n",
    "    file_name=[]\n",
    "    for i,file in enumerate(files):\n",
    "        print(i,end='|')\n",
    "        try:\n",
    "            with open(file,'r',encoding='utf-8',errors='ignore') as f:\n",
    "                txt=f.read()\n",
    "                file_lens.append(len(txt))\n",
    "                if Flg_matubi!=0:\n",
    "                    txt=EMC.count_matubi(txt)\n",
    "                else:\n",
    "                    txt=EMC.count_morpheme(txt)\n",
    "\n",
    "                Pt.update_copus(txt)\n",
    "\n",
    "        except Exception as e:\n",
    "            print(e.args)\n",
    "            continue\n",
    "\n",
    "    df=Pt.dic2df()\n",
    "    return(df)\n",
    "\n",
    "\n",
    "\n",
    "# newdf=read_folder_and_update_dic(newPt,new_path,1,newfiles)\n",
    "# olddf=read_folder_and_update_dic(oldPt,old_path,0,oldfiles)\n"
   ]
  },
  {
   "cell_type": "code",
   "execution_count": null,
   "metadata": {},
   "outputs": [],
   "source": [
    "mergePt=Preprocessing_txt()\n",
    "newdf=read_folder_and_update_dic(mergePt,new_path,newfiles)\n",
    "mergedf=read_folder_and_update_dic(mergePt,old_path,oldfiles)\n"
   ]
  },
  {
   "cell_type": "code",
   "execution_count": null,
   "metadata": {},
   "outputs": [],
   "source": [
    "import glob \n",
    "\n",
    "files=glob.glob(r'..\\..\\data\\new_text\\*.txt')\n",
    "rep_name=[re.sub('.+_','',file) for file in files]\n",
    "rep_name=[re.sub('.txt','',file) for file in rep_name]\n",
    "rep_name"
   ]
  },
  {
   "cell_type": "code",
   "execution_count": null,
   "metadata": {},
   "outputs": [],
   "source": [
    "files=[]\n",
    "label=[]\n",
    "rep_name2=[]\n",
    "\n",
    "for i,time in enumerate(['new','old']):\n",
    "    path=fr'..\\..\\data\\{time}_text\\*.txt'\n",
    "    files+=glob.glob(path)\n",
    "    label+=len(glob.glob(path))*[i]\n",
    "    \n",
    "\n",
    "rep_name=[re.sub('.+_','',file) for file in files]\n",
    "rep_name=[re.sub('.txt','',file) for file in rep_name]\n",
    "rep_name2.extend(rep_name)\n",
    "\n",
    "print(len(rep_name2))\n",
    "print(len(label))\n",
    "print(len(files))\n",
    "    \n",
    "mergePt=Preprocessing_txt()\n",
    "mergedf=read_folder_and_update_dic(mergePt,path,files)\n",
    "\n",
    "\n",
    "# label=len(newfiles)*[0]+len(oldfiles)*[1]\n",
    "\n",
    "\n",
    "# for i,file in enumerate(files):\n",
    "#     print(i,end='|')\n",
    "#     with open(path+file,'r',encoding='utf-8',errors='ignore') as f:\n",
    "#                     txt=f.read()\n",
    "#                     file_lens.append(len(txt))"
   ]
  },
  {
   "cell_type": "code",
   "execution_count": null,
   "metadata": {},
   "outputs": [],
   "source": [
    "print(len(rep_name2),len(label))"
   ]
  },
  {
   "cell_type": "code",
   "execution_count": null,
   "metadata": {},
   "outputs": [],
   "source": []
  },
  {
   "cell_type": "code",
   "execution_count": null,
   "metadata": {},
   "outputs": [],
   "source": [
    "mergedf2"
   ]
  },
  {
   "cell_type": "code",
   "execution_count": null,
   "metadata": {},
   "outputs": [],
   "source": [
    "# word_df=mergedf.loc[:, mergedf.columns.str.match('[^\\x01-\\x7E]')]\n",
    "# new_word_df=mergedf.query('label==1')\n",
    "# new_word_df\n",
    "\n",
    "# old_word_df=mergedf.query('label==0')\n"
   ]
  },
  {
   "cell_type": "code",
   "execution_count": null,
   "metadata": {},
   "outputs": [],
   "source": [
    "mergedf['rep_name']=rep_name2\n",
    "mergedf['label']=label"
   ]
  },
  {
   "cell_type": "code",
   "execution_count": null,
   "metadata": {},
   "outputs": [],
   "source": [
    "sumsr"
   ]
  },
  {
   "cell_type": "code",
   "execution_count": null,
   "metadata": {},
   "outputs": [],
   "source": [
    "mergedf['sum']=mergedf.sum(axis=1)\n",
    "sumsr=pd.Series(mergedf.query('label==0').sum(),name='newsum')\n",
    "sumsr2=pd.Series(mergedf.query('label==1').sum(),name='oldsum')\n",
    "sumsr3=pd.Series(mergedf.sum(),name='sum')\n",
    "\n",
    "mergedf=mergedf.append(sumsr)\n",
    "mergedf=mergedf.append(sumsr2)\n",
    "mergedf=mergedf.append(sumsr3)"
   ]
  },
  {
   "cell_type": "code",
   "execution_count": null,
   "metadata": {},
   "outputs": [],
   "source": [
    "mergedf.to_csv('./merge動詞bow.csv')"
   ]
  },
  {
   "cell_type": "code",
   "execution_count": null,
   "metadata": {},
   "outputs": [],
   "source": [
    "mergedf"
   ]
  },
  {
   "cell_type": "code",
   "execution_count": null,
   "metadata": {},
   "outputs": [],
   "source": [
    "\n"
   ]
  },
  {
   "cell_type": "code",
   "execution_count": null,
   "metadata": {},
   "outputs": [],
   "source": [
    "import matplotlib.pyplot as plt \n",
    "x=range(len(file_lens))\n",
    "fig =plt.figure()\n",
    "\n",
    "ax=fig.add_subplot(1,1,1)\n",
    "ax.bar(x,file_lens)\n",
    "fig.show()"
   ]
  },
  {
   "cell_type": "code",
   "execution_count": null,
   "metadata": {},
   "outputs": [],
   "source": [
    "Pt2.subscribe_dic()\n",
    "df.head(56)"
   ]
  },
  {
   "cell_type": "code",
   "execution_count": null,
   "metadata": {},
   "outputs": [],
   "source": [
    "newdf.to_csv('./新野動詞bow.csv')\n",
    "olddf.to_csv('./旧野動詞bow.csv')\n"
   ]
  }
 ],
 "metadata": {
  "kernelspec": {
   "display_name": "Python 3",
   "language": "python",
   "name": "python3"
  },
  "language_info": {
   "codemirror_mode": {
    "name": "ipython",
    "version": 3
   },
   "file_extension": ".py",
   "mimetype": "text/x-python",
   "name": "python",
   "nbconvert_exporter": "python",
   "pygments_lexer": "ipython3",
   "version": "3.6.6"
  }
 },
 "nbformat": 4,
 "nbformat_minor": 2
}
