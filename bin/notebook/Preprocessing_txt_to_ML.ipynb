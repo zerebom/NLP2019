{
 "cells": [
  {
   "cell_type": "code",
   "execution_count": 27,
   "metadata": {},
   "outputs": [
    {
     "name": "stdout",
     "output_type": "stream",
     "text": [
      "The autoreload extension is already loaded. To reload it, use:\n",
      "  %reload_ext autoreload\n"
     ]
    }
   ],
   "source": [
    "%load_ext autoreload\n",
    "%autoreload 2\n",
    "import sys;sys.path.append('../src')\n",
    "from MLP import *\n",
    "import glob\n",
    "import numpy as np\n",
    "EMC=Extend_MeCab()"
   ]
  },
  {
   "cell_type": "code",
   "execution_count": 28,
   "metadata": {},
   "outputs": [],
   "source": [
    "def read_folder_and_update_dic(Pt,path,files,matubi_len=4,mor='動詞',Flg_matubi=0):\n",
    "    file_lens=[]\n",
    "    file_name=[]\n",
    "    for i,file in enumerate(files):\n",
    "#         if i==1:\n",
    "#             break\n",
    "        print(i,end='|')\n",
    "        try:\n",
    "            with open(file,'r',encoding='utf-8',errors='ignore') as f:\n",
    "                txt=f.read()\n",
    "                file_lens.append(len(txt))\n",
    "                if Flg_matubi!=0:\n",
    "                    txt=EMC.count_matubi(txt,matubi_len)\n",
    "                else:\n",
    "                    txt=EMC.count_morpheme(txt,mor)\n",
    "#             print(txt)\n",
    "            Pt.update_copus(txt)\n",
    "\n",
    "        except Exception as e:\n",
    "            print(e.args)\n",
    "            continue\n",
    "    \n",
    "#     Pt.filter_extremes(no_below=5, no_above=0.5, keep_n=100000, keep_tokens=None)\n",
    "\n",
    "    df=Pt.dic2df()\n",
    "    return(df)\n",
    "\n",
    "def dousi(Pt,path,files):\n",
    "    return read_folder_and_update_dic(Pt,path,files,mor='動詞',Flg_matubi=0)\n",
    "\n",
    "def keiyosi(Pt,path,files):\n",
    "    return read_folder_and_update_dic(Pt,path,files,mor='形容詞',Flg_matubi=0)\n",
    "\n",
    "def matubi(Pt,path,files,matubi_len=4):\n",
    "    return read_folder_and_update_dic(Pt,path,files,matubi_len,mor='',Flg_matubi=1)\n",
    "\n",
    "def add_sum_colmuns(Pt,mergedf,rep_name2,label):\n",
    "    mergedf['rep_name']=rep_name2\n",
    "    mergedf['label']=label\n",
    "    mergedf['sum']=mergedf.sum(axis=1)\n",
    "    mergedf.loc['dfs']=0\n",
    "    #dfs(出現文書数)を代入している\n",
    "    for col,val in Pt.dic().dfs.items():\n",
    "        mergedf.iat[-1,col]=val\n",
    "        \n",
    "    \n",
    "    newsum=pd.Series(mergedf.query('label==0').sum(),name='newsum')\n",
    "    oldsum=pd.Series(mergedf.query('label==1').sum(),name='oldsum')\n",
    "    allsum=pd.Series(mergedf.sum(),name='allsum')\n",
    "\n",
    "    mergedf=mergedf.append(newsum)\n",
    "    mergedf=mergedf.append(oldsum)\n",
    "    mergedf=mergedf.append(allsum)\n",
    "    \n",
    "    return(mergedf)\n"
   ]
  },
  {
   "cell_type": "code",
   "execution_count": 35,
   "metadata": {},
   "outputs": [
    {
     "name": "stdout",
     "output_type": "stream",
     "text": [
      "0|1|2|3|4|5|6|7|8|9|10|11|12|13|14|15|16|17|18|19|20|21|22|23|24|25|26|27|28|29|30|31|32|33|34|35|36|37|38|39|40|41|42|43|44|45|46|47|48|49|50|51|52|53|54|55|0|1|2|3|4|5|6|7|8|9|10|11|12|13|14|15|16|17|18|19|20|21|22|23|24|25|26|27|28|29|30|31|32|33|34|35|36|37|38|39|40|41|42|43|44|45|46|47|48|49|50|51|52|53|54|55|"
     ]
    }
   ],
   "source": [
    "files=[]\n",
    "label=[]\n",
    "rep_name2=[]\n",
    "\n",
    "for i,time in enumerate(['new','old']):\n",
    "    path=fr'..\\..\\data\\{time}_text\\*.txt'\n",
    "    files+=glob.glob(path)\n",
    "    label+=len(glob.glob(path))*[i]\n",
    "    \n",
    "\n",
    "rep_name=[re.sub('.+_','',file) for file in files]\n",
    "rep_name=[re.sub('.txt','',file) for file in rep_name]\n",
    "rep_name2.extend(rep_name)\n",
    "\n",
    "\n",
    "# dousiPt=Preprocessing_txt()\n",
    "# dousidf=dousi(dousiPt,path,files)\n",
    "# dousidf=add_sum_colmuns(dousiPt,dousidf,rep_name2,label)\n",
    "# dousidf.to_csv('./0107動詞bow.csv')\n",
    "\n",
    "# keiyosiPt=Preprocessing_txt()\n",
    "# keiyosidf=keiyosi(keiyosiPt,path,files)\n",
    "# keiyosidf=add_sum_colmuns(keiyosiPt,keiyosidf,rep_name2,label)\n",
    "# keiyosidf.to_csv('./0107形容詞bow.csv')\n",
    "\n",
    "\n",
    "matubiPt=Preprocessing_txt()\n",
    "matubidf=matubi(matubiPt,path,files,4)\n",
    "matubidf=add_sum_colmuns(matubiPt,matubidf,rep_name2,label)\n",
    "matubidf.to_csv('./0107末尾4語bow.csv')\n",
    "\n",
    "matubiPt=Preprocessing_txt()\n",
    "matubidf=matubi(matubiPt,path,files,3)\n",
    "matubidf=add_sum_colmuns(matubiPt,matubidf,rep_name2,label)\n",
    "matubidf.to_csv('./0107末尾3語bow.csv')\n",
    "\n"
   ]
  },
  {
   "cell_type": "code",
   "execution_count": 34,
   "metadata": {},
   "outputs": [
    {
     "data": {
      "text/plain": [
       "''"
      ]
     },
     "execution_count": 34,
     "metadata": {},
     "output_type": "execute_result"
    }
   ],
   "source": []
  },
  {
   "cell_type": "code",
   "execution_count": null,
   "metadata": {},
   "outputs": [],
   "source": [
    "matubiPt.subscribe_dic()"
   ]
  },
  {
   "cell_type": "code",
   "execution_count": null,
   "metadata": {},
   "outputs": [],
   "source": [
    "matubidf"
   ]
  },
  {
   "cell_type": "code",
   "execution_count": null,
   "metadata": {},
   "outputs": [],
   "source": [
    "a=matubiPt.return_dic()"
   ]
  },
  {
   "cell_type": "code",
   "execution_count": null,
   "metadata": {},
   "outputs": [],
   "source": [
    "a=matubiPt.dic\n",
    "a\n",
    "# a.dfs.values()"
   ]
  },
  {
   "cell_type": "code",
   "execution_count": null,
   "metadata": {},
   "outputs": [],
   "source": [
    "a.dfs"
   ]
  },
  {
   "cell_type": "code",
   "execution_count": null,
   "metadata": {},
   "outputs": [],
   "source": [
    "dic=corpora.Dictionary()"
   ]
  },
  {
   "cell_type": "code",
   "execution_count": null,
   "metadata": {},
   "outputs": [],
   "source": [
    "dic.add_documents([['hoge','huga','oei','']])\n",
    "\n",
    "print(f'全単語数={len(dic)}')\n",
    "print(f'全語数={dic.num_pos}')\n",
    "print(f'全文書数={dic.num_docs}')\n",
    "print(f'単語id={dic.token2id}')"
   ]
  },
  {
   "cell_type": "code",
   "execution_count": null,
   "metadata": {},
   "outputs": [],
   "source": []
  }
 ],
 "metadata": {
  "kernelspec": {
   "display_name": "Python 3",
   "language": "python",
   "name": "python3"
  },
  "language_info": {
   "codemirror_mode": {
    "name": "ipython",
    "version": 3
   },
   "file_extension": ".py",
   "mimetype": "text/x-python",
   "name": "python",
   "nbconvert_exporter": "python",
   "pygments_lexer": "ipython3",
   "version": "3.7.1"
  }
 },
 "nbformat": 4,
 "nbformat_minor": 2
}
